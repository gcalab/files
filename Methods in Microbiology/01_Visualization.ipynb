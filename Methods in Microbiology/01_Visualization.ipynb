{
 "cells": [
  {
   "cell_type": "markdown",
   "id": "43f0897f",
   "metadata": {},
   "source": [
    "# Australian AA Variants"
   ]
  },
  {
   "cell_type": "markdown",
   "id": "cba9eea7",
   "metadata": {},
   "source": [
    "## Part 01: Create Visualizations\n",
    "\n",
    "**Run all of `00_ExtractTransform.ipynb` before using this notebook.**\n",
    "\n",
    "Plots the Quarterly Incidences of Substitutions per Australian Region."
   ]
  },
  {
   "cell_type": "code",
   "execution_count": 3,
   "id": "b6c7a72a",
   "metadata": {},
   "outputs": [],
   "source": [
    "from pathlib import Path\n",
    "\n",
    "import pandas as pd\n",
    "import numpy as np\n",
    "\n",
    "import helpers\n",
    "\n",
    "import matplotlib as mpl\n",
    "import matplotlib.pyplot as plt\n",
    "import matplotlib.gridspec as gridspec\n",
    "\n",
    "from IPython import display\n",
    "%matplotlib inline"
   ]
  },
  {
   "cell_type": "markdown",
   "id": "40d4b3f3",
   "metadata": {},
   "source": [
    "## Definitions"
   ]
  },
  {
   "cell_type": "markdown",
   "id": "9de823c6",
   "metadata": {},
   "source": [
    "### Filepaths"
   ]
  },
  {
   "cell_type": "code",
   "execution_count": null,
   "id": "dc06a6ee",
   "metadata": {},
   "outputs": [],
   "source": [
    "DATA_DIR = Path('./data')\n",
    "SUMMARY_DIR = DATA_DIR / 'summaries'\n",
    "FIGURES_DIR = Path('./figures')\n",
    "\n",
    "aa_subs_by_seq_fpath = SUMMARY_DIR / 'aa_subs_by_seq.csv'\n",
    "aa_sub_counts_fpath = SUMMARY_DIR / 'aa_sub_counts_by_regional_period.csv'\n",
    "seq_counts_fpath = SUMMARY_DIR / 'seq_counts_per_regional_period.csv'\n",
    "aa_sub_proportions_fpath = SUMMARY_DIR / 'aa_sub_proportions.csv.xz'"
   ]
  },
  {
   "cell_type": "markdown",
   "id": "260d21bb",
   "metadata": {},
   "source": [
    "#### DataFrame Column Names, Index Levels, and Ordinal Positions"
   ]
  },
  {
   "cell_type": "code",
   "execution_count": 1,
   "id": "fdafb29c",
   "metadata": {},
   "outputs": [],
   "source": [
    "header_multiindex=[0,1,2,3]\n",
    "header_names = ['gene', 'position', 'aa_ref', 'aa_sub']\n",
    "\n",
    "index_multiindex = [0,1,2,3,4]\n",
    "index_names=['region', 'collection_date', 'virus_code', 'accession_id', 'time_period']\n",
    "short_index_names = ['region', 'time_period']"
   ]
  },
  {
   "cell_type": "markdown",
   "id": "ff69bdaa",
   "metadata": {},
   "source": [
    "#### Visualizations"
   ]
  },
  {
   "cell_type": "code",
   "execution_count": null,
   "id": "22612ecb",
   "metadata": {},
   "outputs": [],
   "source": [
    "\n",
    "# By North-to-South Order\n",
    "north_to_south_regions = [\n",
    "    'Northern Territory', 'Queensland', 'Western Australia', 'New South Wales', \n",
    "    'South Australia', 'Australian Capital Territory', 'Victoria', 'Tasmania'\n",
    "]\n",
    "period_names = [\n",
    "    '2020 Q1', '2020 Q2', '2020 Q3', '2020 Q4', \n",
    "    '2021 Q1', '2021 Q2', '2021 Q3', '2021 Q4',\n",
    "    '2022 Q1'\n",
    "]\n",
    "\n",
    "fig_height = 4"
   ]
  },
  {
   "cell_type": "markdown",
   "id": "8f0ae76b",
   "metadata": {},
   "source": [
    "### Load Australian Sequence **AA Substitution Counts** by Regional Period\n",
    "\n",
    "Returns the counts of each **AA Substitution** found in Australian sequences, partitioned by a combined Region and Period (e.g., New Queensland Q1)"
   ]
  },
  {
   "cell_type": "code",
   "execution_count": 4,
   "id": "a47df529",
   "metadata": {},
   "outputs": [],
   "source": [
    "## This is only if the substitution counts dataframe was not constructed\n",
    "##      when running `00_ExtractTransform.ipynb`.\n",
    "\n",
    "# if aa_subs_by_seq_fpath.exists():\n",
    "#     aa_subs_df = pd.read_csv(\n",
    "#         aa_subs_by_seq_fpath, \n",
    "#         header=header_multiindex, \n",
    "#         index_col=index_multiindex,\n",
    "#     ).fillna(0).astype('int32')\n",
    "#     aa_subs_df.index.names = index_names\n",
    "\n",
    "# else:\n",
    "#     emsg = f'`{aa_subs_by_seq_fpath}` cannot be found. Run `00_ExtractTransform.ipynb` first.'\n",
    "#     raise FileNotFoundError(emsg)\n",
    "\n",
    "# aa_sub_counts_df = aa_subs_df.droplevel([1,2,3]).groupby(short_index_names).sum()"
   ]
  },
  {
   "cell_type": "code",
   "execution_count": null,
   "id": "592db173",
   "metadata": {},
   "outputs": [],
   "source": [
    "\n",
    "## Load pre-made version instead\n",
    "if aa_sub_counts_fpath.exists():\n",
    "    aa_sub_counts_df = pd.read_csv(\n",
    "        aa_sub_counts_fpath, \n",
    "        header=header_multiindex, \n",
    "        index_col=[0,1],\n",
    "    ).fillna(0).astype('int32')\n",
    "    aa_sub_counts_df.index.names = short_index_names\n",
    "\n",
    "else:\n",
    "    emsg = f'`{aa_sub_counts_fpath}` cannot be found. Run `00_ExtractTransform.ipynb` first.'\n",
    "    raise FileNotFoundError(emsg)\n"
   ]
  },
  {
   "cell_type": "code",
   "execution_count": null,
   "id": "42868392",
   "metadata": {},
   "outputs": [],
   "source": [
    "aa_sub_counts_df.sample(5)"
   ]
  },
  {
   "cell_type": "markdown",
   "id": "8ee86aff",
   "metadata": {},
   "source": [
    "### Get Australian **Sequence Counts** by Regional Period\n",
    "\n",
    "Load the total number of *sequences* available for each Australian region over a given period.\\\n",
    "This includes sequences which match the reference sequence (`NC_045512`),\\\n",
    "which are not included in the aa substitution dataframe."
   ]
  },
  {
   "cell_type": "code",
   "execution_count": null,
   "id": "3366efdd",
   "metadata": {},
   "outputs": [],
   "source": [
    "%%time\n",
    "\n",
    "seq_counts_df = pd.read_csv(\n",
    "    seq_counts_fpath, \n",
    "    index_col=short_index_names\n",
    ")"
   ]
  },
  {
   "cell_type": "code",
   "execution_count": null,
   "metadata": {},
   "outputs": [],
   "source": [
    "seq_counts_df.sample(5)"
   ]
  },
  {
   "cell_type": "markdown",
   "id": "8e0d32fc",
   "metadata": {},
   "source": [
    "### Get Proportion of Amino Acid Substitutions per Time-Period"
   ]
  },
  {
   "cell_type": "code",
   "execution_count": null,
   "id": "fbfeee03",
   "metadata": {},
   "outputs": [],
   "source": [
    "%%time\n",
    "\n",
    "if aa_sub_proportions_fpath.exists():\n",
    "    print(f'`{aa_sub_proportions_fpath}` already exists. Loading...')\n",
    "    aa_sub_props_df = pd.read_csv(aa_sub_proportions_fpath, index_col=index_multiindex[:-1], header=header_multiindex[:-2])\n",
    "else:\n",
    "    print(f'`{aa_sub_proportions_fpath}` does not exist. Creating...')\n",
    "    aa_sub_props_df = aa_sub_counts_df.div(seq_counts_df.values, axis='columns').astype('float64')\n",
    "    # Replacing the 0s and 1s as strings minimizes the space by removing decimalized versions (ex.: 0.000000, 1.000000)\n",
    "    aa_sub_props_df.replace({0: '0', 1: '1'}).T.to_csv(aa_sub_proportions_fpath)\n",
    "    aa_sub_props_df = aa_sub_props_df.T"
   ]
  },
  {
   "cell_type": "markdown",
   "id": "6bf86b17",
   "metadata": {},
   "source": [
    "### Accessor Functions for AA Substitution Data"
   ]
  },
  {
   "cell_type": "code",
   "execution_count": null,
   "id": "b586bec4",
   "metadata": {},
   "outputs": [],
   "source": [
    "def get_gene_name_list(gene_df):\n",
    "    \"\"\" Get list of gene names\"\"\"\n",
    "    return list(set([gene for gene in gene_df.index.get_level_values('gene')]))\n",
    "\n",
    "\n",
    "def get_by_gene(gene_df, gene):\n",
    "    \"\"\" Given a gene dataframe, get entries by gene\"\"\"\n",
    "    if (gene in gene_df.index.get_level_values('gene')):\n",
    "        return gene_df.loc[(gene_df.index.get_level_values('gene').str.lower() == gene.lower())]\n",
    "\n",
    "\n",
    "def filter_for_relevancy(_df):\n",
    "    \"\"\" Remove variants that do not pass threshold in relevance. \"\"\"\n",
    "    return _df[_df.sum(axis=1) > 0.1].sort_index()\n"
   ]
  },
  {
   "cell_type": "markdown",
   "id": "4aba272e",
   "metadata": {},
   "source": [
    "### Organize Dataframes by Gene "
   ]
  },
  {
   "cell_type": "code",
   "execution_count": null,
   "id": "33feec40",
   "metadata": {},
   "outputs": [],
   "source": [
    "gene_dfs = {\n",
    "    gene_name: filter_for_relevancy(get_by_gene(aa_sub_props_df, gene_name))\n",
    "    for gene_name in get_gene_name_list(aa_sub_props_df)\n",
    "}"
   ]
  },
  {
   "cell_type": "markdown",
   "id": "bba68166",
   "metadata": {},
   "source": [
    "## Visualization"
   ]
  },
  {
   "cell_type": "markdown",
   "id": "cf7dfe0a",
   "metadata": {},
   "source": [
    "#### 1. Configure visual elements of plots\n"
   ]
  },
  {
   "cell_type": "code",
   "execution_count": null,
   "id": "41479769",
   "metadata": {},
   "outputs": [],
   "source": [
    "marker_map = {v: f\"${v}$\" for v in aa_sub_props_df.index.get_level_values('aa_sub').unique()}\n",
    "colors_by_region = {name: helpers.Plotting.color_fader('r', 'c', i/(len(north_to_south_regions)-1)) for i, name in enumerate(north_to_south_regions)}"
   ]
  },
  {
   "cell_type": "markdown",
   "id": "8b500b3d",
   "metadata": {},
   "source": [
    "#### 2. Build functions for plot creation"
   ]
  },
  {
   "cell_type": "code",
   "execution_count": null,
   "id": "504f6c15",
   "metadata": {},
   "outputs": [],
   "source": [
    "def draw_aa_sub_by_region_plots(i, fig, grid_spec, aa_sub_name, sub_df):\n",
    "    \"\"\" \n",
    "        Draw plots comparing regional differences by Amino Acid Substitution. \n",
    "    \"\"\"\n",
    "    ax = fig.add_subplot(grid_spec[0, (i*2):((i+1)*2)])\n",
    "    \n",
    "    aa_ref = sub_df.index.get_level_values('aa_ref').to_numpy()[0]\n",
    "    aa_position = sub_df.index.get_level_values('position').to_numpy()[0]\n",
    "\n",
    "    reg_group = sub_df.droplevel(['position', 'aa_ref']).groupby('region', axis=1)\n",
    "\n",
    "    for region, reg_df in reg_group:\n",
    "        _df = reg_df.droplevel('region', axis=1).T.astype(float).iloc[:, 0]\n",
    "        incidence = np.empty((len(period_names)))\n",
    "        incidence[:] = np.nan\n",
    "\n",
    "        for idx, val in _df.items():\n",
    "            incidence[int(idx) - 1] = val\n",
    "\n",
    "        ax.plot(period_names, incidence, color=colors_by_region.get(region), label=region)\n",
    "\n",
    "    ax.set_title(f\"$\\mathregular{{{aa_ref}\\;{aa_position}\\;{aa_sub_name}}}$\", fontname='monospace', size=14)\n",
    "\n",
    "    ax.set_xlim((-0.1, (len(period_names) - 0.9)))\n",
    "    ax.set_xlabel('Quarter')\n",
    "    \n",
    "    ax.set_ylim((-0.01,1.01))\n",
    "    ax.set_ylabel('Proportion')\n",
    "\n",
    "    ax.set_aspect(4)\n",
    "    ax.apply_aspect()\n",
    "    \n",
    "    ax.grid(alpha=0.5)\n",
    "    \n",
    "    return ax\n",
    "\n",
    "\n",
    "def draw_gene_aa_substitution_plots(gene_name, positional_df, save=False):\n",
    "    \"\"\"\n",
    "        Builds Region-Period Plots for each gene and position\n",
    "    \"\"\"\n",
    "    if positional_df is None or positional_df.empty:\n",
    "        return\n",
    "    for pos, pos_df in positional_df.groupby('position'):\n",
    "        \n",
    "        aa_sub_group = pos_df.groupby('aa_sub')\n",
    "        plot_count = len(aa_sub_group) + 1\n",
    "        \n",
    "        figsize=((plot_count ) * fig_height, fig_height)\n",
    "        title = f'Amino Acid Substitutions for {gene_name} {pos}'\n",
    "\n",
    "        fig = plt.figure(constrained_layout=True, figsize=((plot_count * 7), 5))\n",
    "        grid_spec = gridspec.GridSpec(ncols=(plot_count * 2) - 1, nrows=1, figure=fig)\n",
    "        \n",
    "        axs = [\n",
    "            draw_aa_sub_by_region_plots(i, fig, grid_spec, aa_sub_name, sub_df) # Returns axis\n",
    "            for i, (aa_sub_name, sub_df) in enumerate(aa_sub_group)\n",
    "        ]\n",
    "\n",
    "        fig.suptitle(title, fontsize=16, weight='semibold')\n",
    "\n",
    "        ax = fig.add_subplot(grid_spec[-1, -1])\n",
    "        ax.legend(handles=[mpl.patches.Patch(color=colors_by_region.get(region), label=region) for region in north_to_south_regions], loc='center')\n",
    "        ax.axis('off')\n",
    "        \n",
    "        if save:\n",
    "            output_img_filename = FIGURES_DIR / 'by_gene' / f'{gene_name}' / f'{gene_name}_{pos}.pdf'\n",
    "            output_img_filename.parent.mkdir(exist_ok=True, parents=True)\n",
    "            fig.savefig(output_img_filename)\n",
    "        fig.clear()\n",
    "        "
   ]
  },
  {
   "cell_type": "markdown",
   "id": "89dd441d",
   "metadata": {},
   "source": [
    "#### 3. Plot Incidence of AA Substitutions across Region-Periods"
   ]
  },
  {
   "cell_type": "code",
   "execution_count": null,
   "id": "2f1009b8",
   "metadata": {},
   "outputs": [],
   "source": [
    "plt.clf()\n",
    "for gene_name, gene_df in gene_dfs.items():\n",
    "    draw_gene_aa_substitution_plots(gene_name, gene_df, save=True)\n",
    "    display.clear_output(wait=True)\n",
    "    display.display(plt.gcf())\n",
    "display.clear_output(wait=True)"
   ]
  }
 ],
 "metadata": {
  "kernelspec": {
   "display_name": "Australian Seasonal SARS-CoV2 Mutations",
   "language": "python",
   "name": "covmut _au"
  },
  "language_info": {
   "codemirror_mode": {
    "name": "ipython",
    "version": 3
   },
   "file_extension": ".py",
   "mimetype": "text/x-python",
   "name": "python",
   "nbconvert_exporter": "python",
   "pygments_lexer": "ipython3",
   "version": "3.9.10"
  }
 },
 "nbformat": 4,
 "nbformat_minor": 5
}
